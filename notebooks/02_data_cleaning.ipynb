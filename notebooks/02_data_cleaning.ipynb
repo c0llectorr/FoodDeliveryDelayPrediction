{
 "cells": [
  {
   "cell_type": "code",
   "execution_count": 93,
   "id": "5bf236ee",
   "metadata": {},
   "outputs": [],
   "source": [
    "#Importing libraries for cleaning data\n",
    "import pandas as pd\n",
    "\n",
    "from sklearn.preprocessing import OrdinalEncoder, OneHotEncoder"
   ]
  },
  {
   "cell_type": "code",
   "execution_count": 94,
   "id": "25c9afda",
   "metadata": {},
   "outputs": [
    {
     "name": "stdout",
     "output_type": "stream",
     "text": [
      "   Order_ID  Distance_km Weather Traffic_Level Time_of_Day Vehicle_Type  \\\n",
      "0       522         7.93   Windy           Low   Afternoon      Scooter   \n",
      "1       738        16.42   Clear        Medium     Evening         Bike   \n",
      "2       741         9.52   Foggy           Low       Night      Scooter   \n",
      "3       661         7.44   Rainy        Medium   Afternoon      Scooter   \n",
      "4       412        19.03   Clear           Low     Morning         Bike   \n",
      "\n",
      "   Preparation_Time_min  Courier_Experience_yrs  Delivery_Time_min  \n",
      "0                    12                     1.0                 43  \n",
      "1                    20                     2.0                 84  \n",
      "2                    28                     1.0                 59  \n",
      "3                     5                     1.0                 37  \n",
      "4                    16                     5.0                 68  \n"
     ]
    }
   ],
   "source": [
    "# Importing Raw data from CSV to dataframe and checking the first 5 rows\n",
    "df = pd.read_csv('../data/raw/Food_Delivery_Times.csv')\n",
    "print(df.head())"
   ]
  },
  {
   "cell_type": "code",
   "execution_count": 95,
   "id": "cd3315d1",
   "metadata": {},
   "outputs": [
    {
     "name": "stdout",
     "output_type": "stream",
     "text": [
      "Order_ID: 0\tint64\n",
      "Distance_km: 0\tfloat64\n",
      "Weather: 30\tobject\n",
      "Traffic_Level: 30\tobject\n",
      "Time_of_Day: 30\tobject\n",
      "Vehicle_Type: 0\tobject\n",
      "Preparation_Time_min: 0\tint64\n",
      "Courier_Experience_yrs: 30\tfloat64\n",
      "Delivery_Time_min: 0\tint64\n"
     ]
    }
   ],
   "source": [
    "# Checking for missing values and data types of each column\n",
    "cols = df.columns\n",
    "for col in cols:\n",
    "    print(f'{col}: {df[col].isnull().sum()}\\t{df[col].dtype}')"
   ]
  },
  {
   "cell_type": "markdown",
   "id": "5c0061f9",
   "metadata": {},
   "source": [
    "### **Vehicle Type Column: Imputation and Encoding Rationale**  \n",
    "\n",
    "The `Vehicle_Type` column contains categorical data (Scooter, Bike, Car) with missing values. We address these gaps and encode the variable as follows:  \n",
    "\n",
    "#### **1. Mode Imputation for Missing Values**  \n",
    "        Missing values are filled using the **mode** (most frequent vehicle type).\n",
    "\n",
    "#### **2. Ordinal Encoding for Delivery Speed Hierarchy**  \n",
    "        Car < Scooter < Bike\n",
    "\n",
    "#### **Practical Outcome**  \n",
    "By imputing missing values with the mode and applying ordinal encoding, we maintain data integrity while enabling models to leverage the inherent speed differences between vehicle types—critical for accurate delivery time predictions."
   ]
  },
  {
   "cell_type": "code",
   "execution_count": 96,
   "id": "5ba9b27e",
   "metadata": {},
   "outputs": [],
   "source": [
    "# Defining vehicle types for ordinal encoding\n",
    "vehicle_vals = ['Car', 'Scooter', 'Bike']\n",
    "ordinalEncoding = OrdinalEncoder(categories=[vehicle_vals])\n",
    "df['Vehicle_Type'] = ordinalEncoding.fit_transform(df[['Vehicle_Type']]) \n"
   ]
  },
  {
   "cell_type": "markdown",
   "id": "93420128",
   "metadata": {},
   "source": [
    "### **Time of the Day Column: Imputation and Encoding Strategy**\n",
    "\n",
    "The `Time_of_Day` column contains categorical data (Night, Day, Evening, Afternoon) with missing values. We address these gaps and prepare the data for modeling as follows:\n",
    "\n",
    "#### **1. Mode Imputation for Missing Values**\n",
    "#### **2. One-Hot Encoding for Feature Representation**  \n",
    "\n",
    "#### **3. Practical Outcome**  \n",
    "By imputing missing values with the mode and applying one-hot encoding, we retain the flexibility to capture both direct and interactive effects of time of day on delivery performance—critical for building robust predictive models."
   ]
  },
  {
   "cell_type": "code",
   "execution_count": 97,
   "id": "c1eda7db",
   "metadata": {},
   "outputs": [],
   "source": [
    "# Applying Mode Imputation on Time of the day Column\n",
    "df['Time_of_Day'] = df['Time_of_Day'].fillna(df['Time_of_Day'].mode()[0])\n",
    "\n",
    "#Applying OneHotEncoding on the Time_of_Day column\n",
    "ohe = OneHotEncoder()\n",
    "encoded_day = ohe.fit_transform(df[['Time_of_Day']]).toarray()\n",
    "encoded_day_df = pd.DataFrame(encoded_day, columns=ohe.get_feature_names_out(['Time_of_Day']))\n",
    "df = pd.concat([df, encoded_day_df], axis=1)\n",
    "df.drop('Time_of_Day', axis=1, inplace=True)"
   ]
  },
  {
   "cell_type": "markdown",
   "id": "5ffee628",
   "metadata": {},
   "source": [
    "### **Traffic Level Column Data Cleaning: Mode Imputation and Ordinal Encoding**\n",
    "The Traffic_Level column contains categorical data with a natural ordinal hierarchy (Low → Medium → High) that directly influences delivery time. To address missing values and encode the variable appropriately:\n",
    "\n",
    "### **1. Mode Imputation**\n",
    "### **2. Ordinal Encoding**\n"
   ]
  },
  {
   "cell_type": "code",
   "execution_count": 98,
   "id": "7ea9a021",
   "metadata": {},
   "outputs": [],
   "source": [
    "# Imputing NaN values via Mode Imputation.\n",
    "df['Traffic_Level'] = df['Traffic_Level'].fillna(df['Traffic_Level'].mode()[0])\n",
    "\n",
    "#defining traffic levels for ordinal encoding\n",
    "traffic_vals = ['Low', 'Medium', 'High']\n",
    "\n",
    "#ordinal encoding for traffic levels\n",
    "ordinalEncoder = OrdinalEncoder(categories=[traffic_vals])\n",
    "df['Traffic_Level'] = ordinalEncoder.fit_transform(df[['Traffic_Level']])"
   ]
  },
  {
   "cell_type": "markdown",
   "id": "66dc0437",
   "metadata": {},
   "source": [
    "### **Weather Column Data Cleaning: Mode Imputation and Ordinal Encoding**\n",
    "\n",
    "The Weather column contains categorical data with an inherent hierarchical relationship (e.g., Clear → Windy → Foggy → Rainy → Snowy) that directly impacts delivery time. To address missing values and encode the variable appropriately:\n",
    "\n",
    "### 1. **Mode Imputation**\n",
    "### 2. **Ordinal Encoding**"
   ]
  },
  {
   "cell_type": "code",
   "execution_count": 99,
   "id": "5774302a",
   "metadata": {},
   "outputs": [],
   "source": [
    "# Applying Mode Imputation on Weather Column\n",
    "df['Weather'] = df['Weather'].fillna(df['Weather'].mode()[0])\n",
    "\n",
    "#Pre-processing the Weather column to have ordinal values for better model training\n",
    "weather_vals = ['Clear', 'Windy', 'Foggy', 'Rainy', 'Snowy']\n",
    "ordinal_encoder = OrdinalEncoder(categories=[weather_vals])\n",
    "df['Weather'] = ordinal_encoder.fit_transform(df[['Weather']])\n"
   ]
  },
  {
   "cell_type": "code",
   "execution_count": 100,
   "id": "26ee319e",
   "metadata": {},
   "outputs": [
    {
     "name": "stdout",
     "output_type": "stream",
     "text": [
      "Order_ID: 0\tint64\n",
      "Distance_km: 0\tfloat64\n",
      "Weather: 0\tfloat64\n",
      "Traffic_Level: 0\tfloat64\n",
      "Vehicle_Type: 0\tfloat64\n",
      "Preparation_Time_min: 0\tint64\n",
      "Courier_Experience_yrs: 30\tfloat64\n",
      "Delivery_Time_min: 0\tint64\n",
      "Time_of_Day_Afternoon: 0\tfloat64\n",
      "Time_of_Day_Evening: 0\tfloat64\n",
      "Time_of_Day_Morning: 0\tfloat64\n",
      "Time_of_Day_Night: 0\tfloat64\n"
     ]
    }
   ],
   "source": [
    "# Checking for missing values and data types of each column for validation of changes made above.\n",
    "cols = df.columns\n",
    "for col in cols:\n",
    "    print(f'{col}: {df[col].isnull().sum()}\\t{df[col].dtype}')"
   ]
  },
  {
   "cell_type": "code",
   "execution_count": 101,
   "id": "91b5a874",
   "metadata": {},
   "outputs": [],
   "source": [
    "# Dropping Order_ID column as it is not useful for model training\n",
    "df.drop('Order_ID', axis=1, inplace=True)"
   ]
  },
  {
   "cell_type": "code",
   "execution_count": null,
   "id": "d7eb7e25",
   "metadata": {},
   "outputs": [],
   "source": [
    "# Exporting cleaned data to CSV\n",
    "df.to_csv('../data/processed/cleaned_food_delivery_data.csv', index=False)"
   ]
  }
 ],
 "metadata": {
  "kernelspec": {
   "display_name": "Python 3",
   "language": "python",
   "name": "python3"
  },
  "language_info": {
   "codemirror_mode": {
    "name": "ipython",
    "version": 3
   },
   "file_extension": ".py",
   "mimetype": "text/x-python",
   "name": "python",
   "nbconvert_exporter": "python",
   "pygments_lexer": "ipython3",
   "version": "3.12.1"
  }
 },
 "nbformat": 4,
 "nbformat_minor": 5
}
